{
 "cells": [
  {
   "cell_type": "code",
   "execution_count": 14,
   "metadata": {
    "collapsed": true,
    "pycharm": {
     "name": "#%%\n"
    }
   },
   "outputs": [
    {
     "ename": "KeyboardInterrupt",
     "evalue": "",
     "output_type": "error",
     "traceback": [
      "\u001B[0;31m---------------------------------------------------------------------------\u001B[0m",
      "\u001B[0;31mKeyboardInterrupt\u001B[0m                         Traceback (most recent call last)",
      "Cell \u001B[0;32mIn[14], line 52\u001B[0m\n\u001B[1;32m     49\u001B[0m img \u001B[38;5;241m=\u001B[39m cv2\u001B[38;5;241m.\u001B[39mflip(img,\u001B[38;5;241m1\u001B[39m)\n\u001B[1;32m     50\u001B[0m gray \u001B[38;5;241m=\u001B[39m cv2\u001B[38;5;241m.\u001B[39mcvtColor(img, cv2\u001B[38;5;241m.\u001B[39mCOLOR_BGR2GRAY)\n\u001B[0;32m---> 52\u001B[0m faces \u001B[38;5;241m=\u001B[39m \u001B[43mdetector\u001B[49m\u001B[43m(\u001B[49m\u001B[43mgray\u001B[49m\u001B[43m)\u001B[49m\n\u001B[1;32m     53\u001B[0m \u001B[38;5;28;01mfor\u001B[39;00m face_roi \u001B[38;5;129;01min\u001B[39;00m faces:\n\u001B[1;32m     55\u001B[0m     landmark_list \u001B[38;5;241m=\u001B[39m predictor(gray, face_roi)\n",
      "\u001B[0;31mKeyboardInterrupt\u001B[0m: "
     ]
    }
   ],
   "source": [
    "import numpy as np\n",
    "import dlib\n",
    "import cv2\n",
    "from math import hypot\n",
    "from pygame import mixer\n",
    "\n",
    "mixer.init()\n",
    "sound = mixer.Sound('/Users/thegarvmalik/Downloads/Seminar case study/alarm.wav')\n",
    "cap = cv2.VideoCapture(0)\n",
    "\n",
    "detector = dlib.get_frontaasl_face_detector()\n",
    "predictor = dlib.shape_predictor(\"/Users/thegarvmalik/Downloads/shape_predictor_68_face_landmarks.dat\")\n",
    "\n",
    "\n",
    "def mid(p1 ,p2):\n",
    "    return int((p1.x + p2.x)/2), int((p1.y + p2.y)/2)\n",
    "\n",
    "\n",
    "\n",
    "def eye_aspect_ratio(eye_landmark, face_roi_landmark):\n",
    "    left_point = (face_roi_landmark.part(eye_landmark[0]).x, face_roi_landmark.part(eye_landmark[0]).y)\n",
    "    right_point = (face_roi_landmark.part(eye_landmark[3]).x, face_roi_landmark.part(eye_landmark[3]).y)\n",
    "    center_top = mid(face_roi_landmark.part(eye_landmark[1]), face_roi_landmark.part(eye_landmark[2]))\n",
    "    center_bottom = mid(face_roi_landmark.part(eye_landmark[5]), face_roi_landmark.part(eye_landmark[4]))\n",
    "\n",
    "    hor_line_length = hypot((left_point[0] - right_point[0]), (left_point[1] - right_point[1]))\n",
    "    ver_line_length = hypot((center_top[0] - center_bottom[0]), (center_top[1] - center_bottom[1]))\n",
    "\n",
    "    ratio = hor_line_length / ver_line_length\n",
    "    return ratio\n",
    "\n",
    "def mouth_aspect_ratio(lips_landmark, face_roi_landmark):\n",
    "    left_point = (face_roi_landmark.part(lips_landmark[0]).x, face_roi_landmark.part(lips_landmark[0]).y)\n",
    "    right_point = (face_roi_landmark.part(lips_landmark[2]).x, face_roi_landmark.part(lips_landmark[2]).y)\n",
    "    center_top = (face_roi_landmark.part(lips_landmark[1]).x, face_roi_landmark.part(lips_landmark[1]).y)\n",
    "    center_bottom = (face_roi_landmark.part(lips_landmark[3]).x, face_roi_landmark.part(lips_landmark[3]).y)\n",
    "\n",
    "    hor_line_length = hypot((left_point[0] - right_point[0]), (left_point[1] - right_point[1]))\n",
    "    ver_line_length = hypot((center_top[0] - center_bottom[0]), (center_top[1] - center_bottom[1]))\n",
    "    if hor_line_length == 0:\n",
    "        return ver_line_length\n",
    "    ratio = ver_line_length / hor_line_length\n",
    "    return ratio\n",
    "\n",
    "count = 0\n",
    "font = cv2.FONT_HERSHEY_TRIPLEX\n",
    "while True:\n",
    "    _, img = cap.read()\n",
    "    img = cv2.flip(img,1)\n",
    "    gray = cv2.cvtColor(img, cv2.COLOR_BGR2GRAY)\n",
    "\n",
    "    faces = detector(gray)\n",
    "    for face_roi in faces:\n",
    "\n",
    "        landmark_list = predictor(gray, face_roi)\n",
    "\n",
    "        left_eye_ratio = eye_aspect_ratio([36, 37, 38, 39, 40, 41], landmark_list)\n",
    "        right_eye_ratio = eye_aspect_ratio([42, 43, 44, 45, 46, 47], landmark_list)\n",
    "        eye_open_ratio = (left_eye_ratio + right_eye_ratio) / 2\n",
    "        cv2.putText(img, str(eye_open_ratio), (0, 13), font, 0.5, (100, 100, 100))\n",
    "        ###print(left_eye_ratio,right_eye_ratio,eye_open_ratio)\n",
    "\n",
    "        inner_lip_ratio = mouth_aspect_ratio([60,62,64,66], landmark_list)\n",
    "        outter_lip_ratio = mouth_aspect_ratio([48,51,54,57], landmark_list)\n",
    "        mouth_open_ratio = (inner_lip_ratio + outter_lip_ratio) / 2;\n",
    "        cv2.putText(img, str(mouth_open_ratio), (448, 13), font, 0.5, (100, 100, 100))\n",
    "        ###print(inner_lip_ratio,outter_lip_ratio,mouth_open_ratio)\n",
    "        if mouth_open_ratio > 0.380 and eye_open_ratio > 4.0 or eye_open_ratio > 4.30:\n",
    "            count +=1\n",
    "            sound.play()\n",
    "        else:\n",
    "            count = 0\n",
    "        x,y = face_roi.left(), face_roi.top()\n",
    "        x1,y1 = face_roi.right(), face_roi.bottom()\n",
    "        if count>10:\n",
    "            cv2.rectangle(img, (x,y), (x1,y1), (0, 0, 255), 2)\n",
    "            cv2.putText(img, \"Sleepy\", (x, y-5), font, 0.5, (0, 0, 255))\n",
    "\n",
    "\n",
    "        else:\n",
    "            cv2.rectangle(img, (x,y), (x1,y1), (0, 255, 0), 2)\n",
    "            cv2.putText(img, \"Active\", (x-5, y), font, 0.5, (0, 255, 0))\n",
    "\n",
    "\n",
    "    cv2.imshow(\"img\", img)\n",
    "\n",
    "    key = cv2.waitKey(1)\n",
    "    if key == 27:\n",
    "        break\n",
    "\n",
    "cap.release()\n",
    "cv2.destroyAllWindows()"
   ]
  },
  {
   "cell_type": "code",
   "execution_count": null,
   "outputs": [],
   "source": [],
   "metadata": {
    "collapsed": false,
    "pycharm": {
     "name": "#%%\n"
    }
   }
  },
  {
   "cell_type": "code",
   "execution_count": null,
   "outputs": [],
   "source": [],
   "metadata": {
    "collapsed": false,
    "pycharm": {
     "name": "#%%\n"
    }
   }
  }
 ],
 "metadata": {
  "kernelspec": {
   "display_name": "Python 3",
   "language": "python",
   "name": "python3"
  },
  "language_info": {
   "codemirror_mode": {
    "name": "ipython",
    "version": 2
   },
   "file_extension": ".py",
   "mimetype": "text/x-python",
   "name": "python",
   "nbconvert_exporter": "python",
   "pygments_lexer": "ipython2",
   "version": "2.7.6"
  }
 },
 "nbformat": 4,
 "nbformat_minor": 0
}